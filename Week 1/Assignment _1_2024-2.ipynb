{
 "cells": [
  {
   "cell_type": "code",
   "execution_count": null,
   "id": "620f5ae1-f828-4c23-93d2-a0f83087bb46",
   "metadata": {},
   "outputs": [],
   "source": [
    "# Take value of n, data type = float as an input from user and print it\n",
    "n=3.4"
   ]
  },
  {
   "cell_type": "code",
   "execution_count": null,
   "id": "644ba672-3d56-43df-a7b6-2404c62fea4e",
   "metadata": {},
   "outputs": [],
   "source": [
    "# Check whether the input value is of the double data type. Continue taking input from the user until a double value is entered"
   ]
  },
  {
   "cell_type": "code",
   "execution_count": null,
   "id": "fc607396-9a19-4063-8765-6ed873c59f76",
   "metadata": {},
   "outputs": [],
   "source": [
    "# Define an array and take it's elements as input from user"
   ]
  },
  {
   "cell_type": "code",
   "execution_count": null,
   "id": "502ae83a-6705-4fe8-a847-671457629631",
   "metadata": {},
   "outputs": [],
   "source": [
    "# Define a double dimensional array (n x n), print it's transpose matrix and print another 2D matrix (2 X n) which prints the sum of\n",
    "#rows and columns."
   ]
  },
  {
   "cell_type": "code",
   "execution_count": null,
   "id": "ac61b091-32cf-4389-9320-38d443c0c66e",
   "metadata": {},
   "outputs": [],
   "source": [
    "#Plot graphs of relu, sigmoid, and tanh activation functions.(relu on different graph while the rest 2 on same graph from -100 to 100).\n",
    "#Just go through their definitions as of now."
   ]
  },
  {
   "cell_type": "code",
   "execution_count": null,
   "id": "e91dd4ee-baab-481b-a362-9297dbf60e39",
   "metadata": {},
   "outputs": [],
   "source": [
    "#Read about the softmax function and implement it on the diagonal elements of the 2D array (use the array defined in Question 4). \n",
    "#Also, print the largest element among the principal diagonal without using the \"argmax() function\".\n",
    "#Plot softmax of the diagonal elements against the diagonal elements"
   ]
  }
 ],
 "metadata": {
  "kernelspec": {
   "display_name": "Python 3 (ipykernel)",
   "language": "python",
   "name": "python3"
  },
  "language_info": {
   "codemirror_mode": {
    "name": "ipython",
    "version": 3
   },
   "file_extension": ".py",
   "mimetype": "text/x-python",
   "name": "python",
   "nbconvert_exporter": "python",
   "pygments_lexer": "ipython3",
   "version": "3.12.3"
  }
 },
 "nbformat": 4,
 "nbformat_minor": 5
}
